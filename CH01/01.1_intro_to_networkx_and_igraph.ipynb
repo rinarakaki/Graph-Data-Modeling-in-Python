{
 "cells": [
  {
   "cell_type": "markdown",
   "metadata": {},
   "source": [
    "# Introduction to NetworkX and igraph"
   ]
  },
  {
   "cell_type": "markdown",
   "metadata": {},
   "source": [
    "## Getting setup"
   ]
  },
  {
   "cell_type": "markdown",
   "metadata": {},
   "source": [
    "To get setup for this tutorial you will need to pip install the required packages into your environment:"
   ]
  },
  {
   "cell_type": "code",
   "execution_count": 1,
   "metadata": {},
   "outputs": [],
   "source": [
    "%pip install networkx\n",
    "%pip install igraph\n",
    "%pip install matplotlib\n",
    "# Or from the requirements.txt file\n",
    "# %pip install -r requirements.txt"
   ]
  },
  {
   "cell_type": "markdown",
   "metadata": {},
   "source": [
    "## NetworkX basics"
   ]
  },
  {
   "cell_type": "code",
   "execution_count": 2,
   "metadata": {},
   "outputs": [
    {
     "name": "stdout",
     "output_type": "stream",
     "text": [
      "Current version of NetworkX imported is 3.3\n"
     ]
    }
   ],
   "source": [
    "import networkx as nx\n",
    "\n",
    "print(f\"Current version of NetworkX imported is {nx.__version__}\")"
   ]
  },
  {
   "cell_type": "code",
   "execution_count": 3,
   "metadata": {},
   "outputs": [],
   "source": [
    "G = nx.Graph()"
   ]
  },
  {
   "cell_type": "code",
   "execution_count": 4,
   "metadata": {},
   "outputs": [
    {
     "name": "stdout",
     "output_type": "stream",
     "text": [
      "['Jeremy']\n",
      "Graph with 1 nodes and 0 edges\n"
     ]
    }
   ],
   "source": [
    "G.add_node(\"Jeremy\")\n",
    "\n",
    "print(G.nodes)\n",
    "print(G)"
   ]
  },
  {
   "cell_type": "code",
   "execution_count": 5,
   "metadata": {},
   "outputs": [
    {
     "name": "stdout",
     "output_type": "stream",
     "text": [
      "Graph with 2 nodes and 0 edges. Current nodes in network: ['Jeremy', 'Mark']\n"
     ]
    }
   ],
   "source": [
    "G.add_nodes_from([\"Mark\", \"Jeremy\"])\n",
    "\n",
    "print(f\"{G}. Current nodes in network: {G.nodes}\")"
   ]
  },
  {
   "cell_type": "code",
   "execution_count": 6,
   "metadata": {},
   "outputs": [
    {
     "name": "stdout",
     "output_type": "stream",
     "text": [
      "Graph with 2 nodes and 0 edges\n"
     ]
    }
   ],
   "source": [
    "G.add_nodes_from([\n",
    "    (\"Mark\", {\"followers\": 2100}),\n",
    "    (\"Jeremy\", {\"followers\": 130}),\n",
    "])\n",
    "\n",
    "print(G)"
   ]
  },
  {
   "cell_type": "code",
   "execution_count": 7,
   "metadata": {},
   "outputs": [
    {
     "name": "stdout",
     "output_type": "stream",
     "text": [
      "Graph with 2 nodes and 1 edges\n",
      "[('Jeremy', 'Mark')]\n"
     ]
    }
   ],
   "source": [
    "G.add_edge(\"Jeremy\", \"Mark\")\n",
    "\n",
    "print(G)\n",
    "print(G.edges)"
   ]
  },
  {
   "cell_type": "code",
   "execution_count": 8,
   "metadata": {},
   "outputs": [
    {
     "data": {
      "image/png": "[encoded data removed]",
      "text/plain": [
       "<Figure size 640x480 with 1 Axes>"
      ]
     },
     "metadata": {},
     "output_type": "display_data"
    }
   ],
   "source": [
    "import matplotlib.pyplot as plt\n",
    "\n",
    "nx.draw(G, with_labels=True)\n",
    "plt.show()"
   ]
  },
  {
   "cell_type": "markdown",
   "metadata": {},
   "source": [
    "# igraph basics"
   ]
  },
  {
   "cell_type": "code",
   "execution_count": 9,
   "metadata": {},
   "outputs": [
    {
     "name": "stdout",
     "output_type": "stream",
     "text": [
      "Current version of igraph imported is: 0.11.4\n"
     ]
    }
   ],
   "source": [
    "import igraph as ig\n",
    "\n",
    "print(f\"Current version of igraph imported is: {ig.__version__}\")"
   ]
  },
  {
   "cell_type": "code",
   "execution_count": 10,
   "metadata": {},
   "outputs": [],
   "source": [
    "G = ig.Graph()"
   ]
  },
  {
   "cell_type": "code",
   "execution_count": 11,
   "metadata": {},
   "outputs": [],
   "source": [
    "G.add_vertices(2)"
   ]
  },
  {
   "cell_type": "code",
   "execution_count": 12,
   "metadata": {},
   "outputs": [],
   "source": [
    "G.vs[0][\"name\"] = \"Jeremy\"\n",
    "G.vs[1][\"name\"] = \"Mark\"\n",
    "G.vs[0][\"followers\"] = 130\n",
    "G.vs[1][\"followers\"] = 2100"
   ]
  },
  {
   "cell_type": "code",
   "execution_count": 13,
   "metadata": {},
   "outputs": [],
   "source": [
    "G.vs[\"name\"] = [\"Jeremy\", \"Mark\"]\n",
    "G.vs[\"followers\"] = [130, 2100]"
   ]
  },
  {
   "cell_type": "code",
   "execution_count": 14,
   "metadata": {},
   "outputs": [],
   "source": [
    "G.add_edges([(0, 1)])"
   ]
  }
 ],
 "metadata": {
  "kernelspec": {
   "display_name": "Python 3.8.15 ('graph-book')",
   "language": "python",
   "name": "python3"
  },
  "language_info": {
   "codemirror_mode": {
    "name": "ipython",
    "version": 3
   },
   "file_extension": ".py",
   "mimetype": "text/x-python",
   "name": "python",
   "nbconvert_exporter": "python",
   "pygments_lexer": "ipython3",
   "version": "3.12.2"
  },
  "orig_nbformat": 4,
  "vscode": {
   "interpreter": {
    "hash": "0e962125a6bade716827c7cd07d3b7c9b717838910a5075eb32d8b321480d4bb"
   }
  }
 },
 "nbformat": 4,
 "nbformat_minor": 2
}
